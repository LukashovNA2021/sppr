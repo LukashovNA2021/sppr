{
 "cells": [
  {
   "cell_type": "code",
   "execution_count": 20,
   "id": "4fe9feca",
   "metadata": {},
   "outputs": [
    {
     "name": "stdout",
     "output_type": "stream",
     "text": [
      "Ответ выигрыш игрока A в ситуации H(P,Q) = 5.684099999999999\n",
      "Ответ выигрыш игрока A в ситуации H(Q,A1) = 5.529999999999999\n",
      "Ответ выигрыш игрока A в ситуации H(Q,A2) = 6.470000000000001\n",
      "Ответ выигрыш игрока A в ситуации H(Q,A3) = 6.76\n",
      "Ответ выигрыш игрока A в ситуации H(Q,A4) = 6.529999999999999\n",
      "Ответ выигрыш игрока A в ситуации H(Q,A5) = 9.0\n",
      "Ответ выигрыш игрока B в ситуации H(P,Q) = 5.684099999999999\n",
      "Ответ выигрыш игрока B в ситуации H(Q,A1) = 5.529999999999999\n",
      "Ответ выигрыш игрока B в ситуации H(Q,A2) = 6.470000000000001\n",
      "Ответ выигрыш игрока B в ситуации H(Q,A3) = 6.76\n",
      "Ответ выигрыш игрока B в ситуации H(Q,A4) = 6.529999999999999\n",
      "Ответ выигрыш игрока B в ситуации H(Q,A5) = 9.0\n",
      "Ответ выигрыш игрока B в ситуации H(P,B1) = 4.7\n",
      "Ответ выигрыш игрока B в ситуации H(P,B2) = 5.699999999999999\n",
      "Ответ выигрыш игрока B в ситуации H(P,B3) = 4.63\n",
      "Ответ выигрыш игрока B в ситуации H(P,B4) = 3.37\n",
      "Ответ выигрыш игрока B в ситуации H(P,B5) = 5.67\n"
     ]
    }
   ],
   "source": [
    "import numpy as np\n",
    "matrix = np.array(\n",
    "    [\n",
    "        [1,5,11,12,6],\n",
    "        [2,7,12,4,6],\n",
    "        [5,11,4,0,3],\n",
    "        [3,6,4,4,7],\n",
    "        [9,9,0,8,9]\n",
    "    ]\n",
    ")\n",
    "q= [0.63, 0.0, 0.37, 0.0, 0.0]\n",
    "\n",
    "p= [0.0, 0.47, 0.0, 0.0, 0.53]\n",
    "answer = {}\n",
    "\n",
    "lower_price = max([min(x) for x in matrix])\n",
    "upper_price = min([max(x) for x in np.rot90(matrix)])\n",
    "\n",
    "if lower_price==upper_price:\n",
    "    print(\"седловая точка есть\", \"ответ v={}\".format(lower_price))\n",
    "else:\n",
    "    buff=0\n",
    "    \n",
    "    for i,pin in zip(matrix,p):\n",
    "        buff+=pin*sum([x*y for x,y in zip(i,q)])\n",
    "    answer[\"H(P,Q)\"]=buff\n",
    "    \n",
    "    for k, i  in enumerate((matrix),1):\n",
    "        answer[\"H(Q,A{})\".format(k)]=sum([x*y for x,y in zip(i,p)])\n",
    "\n",
    "\n",
    "for i in [(x,y) for x,y in answer.items()]:\n",
    "    print(\"Ответ выигрыш игрока A в ситуации {0[0]} = {0[1]}\".format(i))\n",
    "    for k, i  in enumerate((matrix),1):\n",
    "        answer[\"H(P,B{})\".format(k)]=sum([x*y for x,y in zip(i,q)])\n",
    "\n",
    "for i in [(x,y) for x,y in answer.items()]:\n",
    "  print(\"Ответ выигрыш игрока B в ситуации {0[0]} = {0[1]}\".format(i))"
   ]
  },
  {
   "cell_type": "code",
   "execution_count": 27,
   "id": "e282e0e2",
   "metadata": {
    "scrolled": true
   },
   "outputs": [],
   "source": [
    "from cvxopt.modeling import variable, op\n",
    "import time\n",
    "start = time.time()\n",
    "x = variable(25, 'x')\n",
    "\n",
    "c= [1,1,3,4,5,2,3,4,2,6,1,1,4,7,8,5,6,3,4,7,4,5,7,6,4]\n",
    "\n",
    "z = sum( [ c[i]*x[i] for i in range(25) ] )\n",
    "\n",
    "mass1 = (x[0] + x[1] + x[2] + x[3] + x[4] <= 20)\n",
    "mass2 = (x[5] + x[6] + x[7] + x[8] + x[9] <= 10)\n",
    "mass3 = (x[10] + x[11] + x[12] + x[13] + x[14] <= 20)\n",
    "mass4 = (x[15] + x[16] + x[17] + x[18] + x[19] <= 30)\n",
    "mass5 = (x[20] + x[21] + x[22] + x[23] + x[24] <= 10)\n",
    "\n",
    "mass6 = (x[0] + x[5] + x[10] + x[15] + x[20] == 20)\n",
    "mass7 = (x[1] + x[6] + x[11] + x[16] + x[21] == 20)\n",
    "mass8 = (x[2] + x[7] + x[12] + x[17] + x[22] == 20)\n",
    "mass9 = (x[3] + x[8] + x[13] + x[18] + x[23] == 10)\n",
    "mass10 = (x[4] + x[9] + x[14] + x[19] + x[24] == 20)\n",
    "x_non_negative = (x >= 0)    \n",
    "\n",
    "problem = op(z, [mass1, mass2, mass3, mass4, mass5, mass6, mass7, mass8, mass9, mass10, x_non_negative] )\n",
    "problem.solve(solver='glpk')"
   ]
  },
  {
   "cell_type": "code",
   "execution_count": 28,
   "id": "6560bf42",
   "metadata": {},
   "outputs": [
    {
     "name": "stdout",
     "output_type": "stream",
     "text": [
      "Результат Xopt:\n",
      "20.0\n",
      "0.0\n",
      "0.0\n",
      "0.0\n",
      "0.0\n",
      "0.0\n",
      "0.0\n",
      "0.0\n",
      "10.0\n",
      "0.0\n",
      "0.0\n",
      "20.0\n",
      "0.0\n",
      "0.0\n",
      "0.0\n",
      "0.0\n",
      "0.0\n",
      "20.0\n",
      "0.0\n",
      "10.0\n",
      "0.0\n",
      "0.0\n",
      "0.0\n",
      "0.0\n",
      "10.0\n",
      "Стоимость доставки:\n",
      "230.0\n",
      "Время :\n",
      "0.17677831649780273\n"
     ]
    }
   ],
   "source": [
    "print(\"Результат Xopt:\")\n",
    "for i in x.value:\n",
    "         print(i)\n",
    "print(\"Стоимость доставки:\")\n",
    "print(problem.objective.value()[0])\n",
    "stop = time.time()\n",
    "print (\"Время :\")\n",
    "print(stop - start)"
   ]
  },
  {
   "cell_type": "code",
   "execution_count": null,
   "id": "6dc01f63",
   "metadata": {},
   "outputs": [],
   "source": []
  }
 ],
 "metadata": {
  "kernelspec": {
   "display_name": "Python 3 (ipykernel)",
   "language": "python",
   "name": "python3"
  },
  "language_info": {
   "codemirror_mode": {
    "name": "ipython",
    "version": 3
   },
   "file_extension": ".py",
   "mimetype": "text/x-python",
   "name": "python",
   "nbconvert_exporter": "python",
   "pygments_lexer": "ipython3",
   "version": "3.9.9"
  }
 },
 "nbformat": 4,
 "nbformat_minor": 5
}
